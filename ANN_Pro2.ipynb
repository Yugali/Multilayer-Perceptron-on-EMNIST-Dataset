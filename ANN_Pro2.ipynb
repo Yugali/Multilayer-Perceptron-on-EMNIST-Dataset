{
 "cells": [
  {
   "cell_type": "markdown",
   "metadata": {},
   "source": [
    "# 1. Dataset loading and pickling"
   ]
  },
  {
   "cell_type": "code",
   "execution_count": 103,
   "metadata": {},
   "outputs": [
    {
     "data": {
      "text/plain": [
       "((array([[0, 0, 0, ..., 0, 0, 0],\n",
       "         [0, 0, 0, ..., 0, 0, 0],\n",
       "         [0, 0, 0, ..., 0, 0, 0],\n",
       "         ...,\n",
       "         [0, 0, 0, ..., 0, 0, 0],\n",
       "         [0, 0, 0, ..., 0, 0, 0],\n",
       "         [0, 0, 0, ..., 0, 0, 0]], dtype=uint8), array([[23],\n",
       "         [ 7],\n",
       "         [16],\n",
       "         ...,\n",
       "         [21],\n",
       "         [23],\n",
       "         [25]], dtype=uint8)), (array([[0, 0, 0, ..., 0, 0, 0],\n",
       "         [0, 0, 0, ..., 0, 0, 0],\n",
       "         [0, 0, 0, ..., 0, 0, 0],\n",
       "         ...,\n",
       "         [0, 0, 0, ..., 0, 0, 0],\n",
       "         [0, 0, 0, ..., 0, 0, 0],\n",
       "         [0, 0, 0, ..., 0, 0, 0]], dtype=uint8), array([[17],\n",
       "         [12],\n",
       "         [11],\n",
       "         ...,\n",
       "         [13],\n",
       "         [15],\n",
       "         [19]], dtype=uint8)), (array([[0, 0, 0, ..., 0, 0, 0],\n",
       "         [0, 0, 0, ..., 0, 0, 0],\n",
       "         [0, 0, 0, ..., 0, 0, 0],\n",
       "         ...,\n",
       "         [0, 0, 0, ..., 0, 0, 0],\n",
       "         [0, 0, 0, ..., 0, 0, 0],\n",
       "         [0, 0, 0, ..., 0, 0, 0]], dtype=uint8), array([[ 1],\n",
       "         [ 1],\n",
       "         [ 1],\n",
       "         ...,\n",
       "         [26],\n",
       "         [26],\n",
       "         [26]], dtype=uint8)))"
      ]
     },
     "execution_count": 103,
     "metadata": {},
     "output_type": "execute_result"
    }
   ],
   "source": [
    "from scipy import io as sio\n",
    "import pickle\n",
    "import gzip\n",
    "\n",
    "\n",
    "mat = sio.loadmat('emnist-letters.mat')\n",
    "data = mat['dataset']\n",
    "\n",
    "X_train = data['train'][0,0]['images'][0,0]\n",
    "y_train = data['train'][0,0]['labels'][0,0]\n",
    "X_test = data['test'][0,0]['images'][0,0]\n",
    "y_test = data['test'][0,0]['labels'][0,0]\n",
    "val_start = X_train.shape[0] - X_test.shape[0]\n",
    "X_val = X_train[val_start:X_train.shape[0],:]\n",
    "y_val = y_train[val_start:X_train.shape[0]]\n",
    "X_train = X_train[0:val_start,:]\n",
    "y_train = y_train[0:val_start]\n",
    "\n",
    "X_train1 = [X_train]\n",
    "y_train1 = [y_train]\n",
    "X_test1  = [X_test]\n",
    "y_test1  = [y_test]\n",
    "X_val1   = [X_val]\n",
    "y_val1   = [y_val]\n",
    "\n",
    "X_train = list(zip(X_train1,y_train1))\n",
    "X_test  = list(zip(X_test1,y_test1))\n",
    "X_val   = list(zip(X_val1,y_val1))\n",
    "            \n",
    "\n",
    "f = gzip.open('emnist.pkl.gz','wb')\n",
    "pickle.dump(X_train+X_val+X_test,f)\n",
    "f.close()\n",
    "load_data()\n",
    "    "
   ]
  },
  {
   "cell_type": "markdown",
   "metadata": {},
   "source": [
    "# 2. Viewing the images"
   ]
  },
  {
   "cell_type": "code",
   "execution_count": 4,
   "metadata": {
    "scrolled": true
   },
   "outputs": [],
   "source": [
    "\n",
    "import numpy as np\n",
    "import pickle\n",
    "import gzip\n",
    "import matplotlib\n",
    "import matplotlib.pyplot as plt\n",
    "\n",
    "def load_data() :\n",
    "    f = gzip.open('emnist.pkl.gz','rb')\n",
    "    training_data, validation_data, test_data = pickle.load(f, encoding=\"latin1\")\n",
    "    f.close()\n",
    "    return training_data,validation_data,test_data\n",
    "\n",
    "\n",
    "def load_data_wrapper() :\n",
    "    tr_d, va_d, te_d = load_data()\n",
    "    training_inputs = [np.reshape(x, (784, 1)) for x in tr_d[0]]\n",
    "    training_results = [vectorized_result(y) for y in tr_d[1]]\n",
    "    training_data = zip(training_inputs, training_results)\n",
    "    validation_inputs = [np.reshape(x, (784, 1)) for x in va_d[0]]\n",
    "    validation_data = zip(validation_inputs, va_d[1])\n",
    "    test_inputs = [np.reshape(x, (784, 1)) for x in te_d[0]]\n",
    "    test_data = zip(test_inputs, te_d[1])\n",
    "    return (training_data, validation_data, test_data)\n",
    "\n",
    "def vectorized_result(j):\n",
    "    e = np.zeros((27, 1))\n",
    "    e[j] = 1.0\n",
    "    return e\n",
    "\n",
    "#load_data_wrapper()\n",
    "\n",
    "def plot_images_separately(images):\n",
    "    fig = plt.figure()\n",
    "    for j in range(1,20):\n",
    "        ax = fig.add_subplot(1,19, j)\n",
    "        ax.matshow(images[j-1], cmap = matplotlib.cm.binary)\n",
    "        plt.xticks(np.array([]))\n",
    "        plt.yticks(np.array([]))\n",
    "    plt.show()\n",
    "\n",
    "\n",
    "def get_images(training_set):\n",
    "    flattened_images = training_set[0]\n",
    "    return [np.reshape(f, (-1, 28)) for f in flattened_images]\n",
    "\n",
    "def main():\n",
    "    training_set, validation_set, test_set = load_data()\n",
    "    images = get_images(training_set)\n",
    "    plot_images_separately(images)\n",
    "    \n"
   ]
  },
  {
   "cell_type": "code",
   "execution_count": 5,
   "metadata": {},
   "outputs": [
    {
     "data": {
      "image/png": "[encoded data removed]",
      "text/plain": [
       "<Figure size 432x288 with 19 Axes>"
      ]
     },
     "metadata": {},
     "output_type": "display_data"
    }
   ],
   "source": [
    "main()"
   ]
  },
  {
   "cell_type": "markdown",
   "metadata": {},
   "source": [
    "# 3. network.py\n",
    "\n",
    "Check the accuracy over this network without tuning the hyperparamters"
   ]
  },
  {
   "cell_type": "code",
   "execution_count": 97,
   "metadata": {},
   "outputs": [
    {
     "name": "stdout",
     "output_type": "stream",
     "text": [
      "Epoch 0 : 1194 / 20800\n",
      "Epoch 1 : 1516 / 20800\n",
      "Epoch 2 : 1750 / 20800\n",
      "Epoch 3 : 1880 / 20800\n",
      "Epoch 4 : 2286 / 20800\n",
      "Epoch 5 : 2563 / 20800\n",
      "Epoch 6 : 2630 / 20800\n",
      "Epoch 7 : 2920 / 20800\n",
      "Epoch 8 : 2997 / 20800\n",
      "Epoch 9 : 3104 / 20800\n"
     ]
    }
   ],
   "source": [
    "\n",
    "from src import network\n",
    "\n",
    "training_data, validation_data, test_data = load_data_wrapper()\n",
    "\n",
    "net = network.Network([784, 100, 27])\n",
    "net.SGD(training_data, 10, 10, 0.1, test_data)"
   ]
  },
  {
   "cell_type": "markdown",
   "metadata": {},
   "source": [
    "The accuracy for network.py is (3104/20800) i.e 14.92%"
   ]
  },
  {
   "cell_type": "markdown",
   "metadata": {},
   "source": [
    "# Graph for Training set(Accuracy Vs Cost)"
   ]
  },
  {
   "cell_type": "code",
   "execution_count": 100,
   "metadata": {},
   "outputs": [
    {
     "data": {
      "image/png": "[encoded data removed]",
      "text/plain": [
       "<Figure size 432x288 with 1 Axes>"
      ]
     },
     "metadata": {
      "needs_background": "light"
     },
     "output_type": "display_data"
    }
   ],
   "source": [
    "t = training_accuracy\n",
    "s = training_cost\n",
    "fig, ax = plt.subplots()\n",
    "ax.plot(s, t)\n",
    "ax.set(xlabel='Cost', ylabel='Accuracy', title='Cost vs Accuracy')\n",
    "ax.grid()\n",
    "plt.show()"
   ]
  },
  {
   "cell_type": "markdown",
   "metadata": {},
   "source": [
    "# Graph for Validation set(Accuracy Vs Cost)"
   ]
  },
  {
   "cell_type": "code",
   "execution_count": 95,
   "metadata": {},
   "outputs": [
    {
     "data": {
      "image/png": "[encoded data removed]",
      "text/plain": [
       "<Figure size 432x288 with 1 Axes>"
      ]
     },
     "metadata": {
      "needs_background": "light"
     },
     "output_type": "display_data"
    }
   ],
   "source": [
    "\n",
    "t = evaluation_accuracy\n",
    "s = evaluation_cost\n",
    "fig, ax = plt.subplots()\n",
    "ax.plot(s, t)\n",
    "ax.set(xlabel='Cost', ylabel='Accuracy', title='Cost vs Accuracy')\n",
    "ax.grid()\n",
    "plt.show()"
   ]
  },
  {
   "cell_type": "markdown",
   "metadata": {},
   "source": [
    "# 4. Improving the network\n",
    "\n",
    "# network2.py\n",
    "\n",
    "Check the accuracy by tuning the hyperparamters by changing the value of Learning rate, Lamda and early stopping parameter."
   ]
  },
  {
   "cell_type": "code",
   "execution_count": 53,
   "metadata": {},
   "outputs": [],
   "source": [
    "import json\n",
    "import sys\n",
    "import numpy as np\n",
    "import random\n",
    "\n",
    "def sigmoid(z):\n",
    "    return 1.0/(1.0+np.exp(-z))\n",
    "\n",
    "def sigmoid_prime(z):\n",
    "    return sigmoid(z)*(1-sigmoid(z))\n",
    "\n",
    "\n",
    "class CrossEntropyCost(object):\n",
    "\n",
    "    @staticmethod\n",
    "    def fn(a, y):\n",
    "        return np.sum(np.nan_to_num(-y*np.log(a)-(1-y)*np.log(1-a)))\n",
    "\n",
    "    @staticmethod\n",
    "    def delta(z, a, y):\n",
    "        return (a-y)\n",
    "\n",
    "\n",
    "class Network2(object):\n",
    "    \n",
    "    def __init__(self, sizes, cost=CrossEntropyCost):\n",
    "        self.num_layers = len(sizes)\n",
    "        self.sizes = sizes\n",
    "        self.default_weight_initializer()\n",
    "        self.cost=cost\n",
    "        \n",
    "    def default_weight_initializer(self):\n",
    "        self.biases = [np.random.randn(y, 1) for y in self.sizes[1:]]\n",
    "        self.weights = [np.random.randn(y, x)/np.sqrt(x) \n",
    "                        for x, y in zip(self.sizes[:-1], self.sizes[1:])]\n",
    "     \n",
    "    def feedforward(self, a):\n",
    "        for b, w in zip(self.biases, self.weights):\n",
    "            a = sigmoid(np.dot(w, a)+b)\n",
    "        return a\n",
    "    \n",
    "    def SGD(self, training_data, epochs, mini_batch_size, eta,\n",
    "        lmbda = 0.0,\n",
    "        evaluation_data=None,\n",
    "        monitor_evaluation_cost=False,\n",
    "        monitor_evaluation_accuracy=False,\n",
    "        monitor_training_cost=False,\n",
    "        monitor_training_accuracy=False):\n",
    "       \n",
    "        if evaluation_data: n_data = len(evaluation_data)\n",
    "        n = len(training_data)\n",
    "        evaluation_cost, evaluation_accuracy = [], []\n",
    "        training_cost, training_accuracy = [], []\n",
    "        for j in range(epochs):\n",
    "            random.shuffle(training_data)\n",
    "            mini_batches = [\n",
    "                training_data[k:k+mini_batch_size]\n",
    "                for k in range(0, n, mini_batch_size)]\n",
    "            for mini_batch in mini_batches:\n",
    "                self.update_mini_batch(\n",
    "                    mini_batch, eta, lmbda, len(training_data))\n",
    "            print ('Epoch %s training complete' % j)\n",
    "            if monitor_training_cost:\n",
    "                cost = self.total_cost(training_data, lmbda)\n",
    "                training_cost.append(cost)\n",
    "                print ('Cost on training data: {}'.format(cost))\n",
    "            if monitor_training_accuracy:\n",
    "                accuracy = self.accuracy(training_data, convert=True)\n",
    "                training_accuracy.append(accuracy)\n",
    "                print ('Accuracy on training data: {} / {}'.format(\n",
    "                    accuracy, n))\n",
    "            if monitor_evaluation_cost:\n",
    "                cost = self.total_cost(evaluation_data, lmbda, convert=True)\n",
    "                evaluation_cost.append(cost)\n",
    "                print ('Cost on evaluation data: {}'.format(cost))\n",
    "            if monitor_evaluation_accuracy:\n",
    "                accuracy = self.accuracy(evaluation_data)\n",
    "                evaluation_accuracy.append(accuracy)\n",
    "                print ('Accuracy on evaluation data: {} / {}'.format(\n",
    "                    self.accuracy(evaluation_data), n_data))\n",
    "            print('')\n",
    "        return evaluation_cost, evaluation_accuracy, \\\n",
    "            training_cost, training_accuracy\n",
    "    \n",
    "    def update_mini_batch(self, mini_batch, eta, lmbda, n):\n",
    "        nabla_b = [np.zeros(b.shape) for b in self.biases]\n",
    "        nabla_w = [np.zeros(w.shape) for w in self.weights]\n",
    "        for x, y in mini_batch:\n",
    "            delta_nabla_b, delta_nabla_w = self.backprop(x, y)\n",
    "            nabla_b = [nb+dnb for nb, dnb in zip(nabla_b, delta_nabla_b)]\n",
    "            nabla_w = [nw+dnw for nw, dnw in zip(nabla_w, delta_nabla_w)]\n",
    "        self.weights = [(1-eta*(lmbda/n))*w-(eta/len(mini_batch))*nw\n",
    "                        for w, nw in zip(self.weights, nabla_w)]\n",
    "        self.biases = [b-(eta/len(mini_batch))*nb\n",
    "                       for b, nb in zip(self.biases, nabla_b)]\n",
    "        \n",
    "    def backprop(self, x, y):\n",
    "        nabla_b = [np.zeros(b.shape) for b in self.biases]\n",
    "        nabla_w = [np.zeros(w.shape) for w in self.weights]\n",
    "        # feedforward\n",
    "        activation = x\n",
    "        activations = [x] # list to store all the activations, layer by layer\n",
    "        zs = [] # list to store all the z vectors, layer by layer\n",
    "        for b, w in zip(self.biases, self.weights):\n",
    "            z = np.dot(w, activation)+b\n",
    "            zs.append(z)\n",
    "            activation = sigmoid(z)\n",
    "            activations.append(activation)\n",
    "        # backward pass\n",
    "        delta = (self.cost).delta(zs[-1], activations[-1], y)\n",
    "        nabla_b[-1] = delta\n",
    "        nabla_w[-1] = np.dot(delta, activations[-2].transpose())\n",
    "        # Note that the variable l in the loop below is used a little\n",
    "        # differently to the notation in Chapter 2 of the book.  Here,\n",
    "        # l = 1 means the last layer of neurons, l = 2 is the\n",
    "        # second-last layer, and so on.  It's a renumbering of the\n",
    "        # scheme in the book, used here to take advantage of the fact\n",
    "        # that Python can use negative indices in lists.\n",
    "        for l in range(2, self.num_layers):\n",
    "            z = zs[-l]\n",
    "            sp = sigmoid_prime(z)\n",
    "            delta = np.dot(self.weights[-l+1].transpose(), delta) * sp\n",
    "            nabla_b[-l] = delta\n",
    "            nabla_w[-l] = np.dot(delta, activations[-l-1].transpose())\n",
    "        return (nabla_b, nabla_w)\n",
    "\n",
    "    def accuracy(self, data, convert=False):\n",
    "        if convert:\n",
    "            results = [(np.argmax(self.feedforward(x)), np.argmax(y))\n",
    "                       for (x, y) in data]\n",
    "        else:\n",
    "            results = [(np.argmax(self.feedforward(x)), y)\n",
    "                        for (x, y) in data]\n",
    "        return sum(int(x == y) for (x, y) in results)\n",
    "    \n",
    "    def total_cost(self, data, lmbda, convert=False):\n",
    "        cost = 0.0\n",
    "        for x, y in data:\n",
    "            a = self.feedforward(x)\n",
    "            if convert: y = vectorized_result(y)\n",
    "            cost += self.cost.fn(a, y)/len(data)\n",
    "        cost += 0.5*(lmbda/len(data))*sum(\n",
    "            np.linalg.norm(w)**2 for w in self.weights)\n",
    "        return cost\n",
    "    \n",
    "    def save(self, filename):\n",
    "        data = {\"sizes\": self.sizes,\n",
    "                \"weights\": [w.tolist() for w in self.weights],\n",
    "                \"biases\": [b.tolist() for b in self.biases],\n",
    "                \"cost\": str(self.cost.__name__)}\n",
    "        f = open(filename, \"w\")\n",
    "        json.dump(data, f)\n",
    "        f.close()\n",
    "        \n",
    "training_data, validation_data, test_data = load_data_wrapper()\n"
   ]
  },
  {
   "cell_type": "markdown",
   "metadata": {},
   "source": [
    "# Overfitting with smaller Learning Rate\n"
   ]
  },
  {
   "cell_type": "code",
   "execution_count": 54,
   "metadata": {},
   "outputs": [
    {
     "name": "stdout",
     "output_type": "stream",
     "text": [
      "Epoch 0 training complete\n",
      "Cost on training data: 2.977528735047458\n",
      "Accuracy on training data: 52470 / 104000\n",
      "Cost on evaluation data: 2.9822164078435285\n",
      "Accuracy on evaluation data: 10415 / 20800\n",
      "\n",
      "Epoch 1 training complete\n",
      "Cost on training data: 2.5219065298889958\n",
      "Accuracy on training data: 59047 / 104000\n",
      "Cost on evaluation data: 2.5265403801203097\n",
      "Accuracy on evaluation data: 11856 / 20800\n",
      "\n",
      "Epoch 2 training complete\n",
      "Cost on training data: 2.3141106972573846\n",
      "Accuracy on training data: 62478 / 104000\n",
      "Cost on evaluation data: 2.3195583877490566\n",
      "Accuracy on evaluation data: 12398 / 20800\n",
      "\n",
      "Epoch 3 training complete\n",
      "Cost on training data: 2.185462260825313\n",
      "Accuracy on training data: 64069 / 104000\n",
      "Cost on evaluation data: 2.1966359420232067\n",
      "Accuracy on evaluation data: 12835 / 20800\n",
      "\n",
      "Epoch 4 training complete\n",
      "Cost on training data: 2.0934077527765553\n",
      "Accuracy on training data: 66367 / 104000\n",
      "Cost on evaluation data: 2.1046038226447776\n",
      "Accuracy on evaluation data: 13220 / 20800\n",
      "\n",
      "Epoch 5 training complete\n",
      "Cost on training data: 2.0359513808290157\n",
      "Accuracy on training data: 67127 / 104000\n",
      "Cost on evaluation data: 2.0519142744602274\n",
      "Accuracy on evaluation data: 13339 / 20800\n",
      "\n",
      "Epoch 6 training complete\n",
      "Cost on training data: 1.962298588540723\n",
      "Accuracy on training data: 68665 / 104000\n",
      "Cost on evaluation data: 1.9756743898220581\n",
      "Accuracy on evaluation data: 13638 / 20800\n",
      "\n",
      "Epoch 7 training complete\n",
      "Cost on training data: 1.9187155539187684\n",
      "Accuracy on training data: 69042 / 104000\n",
      "Cost on evaluation data: 1.9241250107041636\n",
      "Accuracy on evaluation data: 13796 / 20800\n",
      "\n",
      "Epoch 8 training complete\n",
      "Cost on training data: 1.864850765495868\n",
      "Accuracy on training data: 70252 / 104000\n",
      "Cost on evaluation data: 1.8750142609517277\n",
      "Accuracy on evaluation data: 14031 / 20800\n",
      "\n",
      "Epoch 9 training complete\n",
      "Cost on training data: 1.8933847774109116\n",
      "Accuracy on training data: 69674 / 104000\n",
      "Cost on evaluation data: 1.9048776187494216\n",
      "Accuracy on evaluation data: 13896 / 20800\n",
      "\n",
      "Epoch 10 training complete\n",
      "Cost on training data: 1.8501763301200032\n",
      "Accuracy on training data: 70353 / 104000\n",
      "Cost on evaluation data: 1.8668072272619747\n",
      "Accuracy on evaluation data: 14007 / 20800\n",
      "\n",
      "Epoch 11 training complete\n",
      "Cost on training data: 1.7990048258033577\n",
      "Accuracy on training data: 71457 / 104000\n",
      "Cost on evaluation data: 1.8119590583183591\n",
      "Accuracy on evaluation data: 14211 / 20800\n",
      "\n",
      "Epoch 12 training complete\n",
      "Cost on training data: 1.83691742728453\n",
      "Accuracy on training data: 70733 / 104000\n",
      "Cost on evaluation data: 1.8591538476948668\n",
      "Accuracy on evaluation data: 14080 / 20800\n",
      "\n",
      "Epoch 13 training complete\n",
      "Cost on training data: 1.7854791794300011\n",
      "Accuracy on training data: 71607 / 104000\n",
      "Cost on evaluation data: 1.8001581144533576\n",
      "Accuracy on evaluation data: 14299 / 20800\n",
      "\n",
      "Epoch 14 training complete\n",
      "Cost on training data: 1.766489129000813\n",
      "Accuracy on training data: 71848 / 104000\n",
      "Cost on evaluation data: 1.7895636354799638\n",
      "Accuracy on evaluation data: 14271 / 20800\n",
      "\n",
      "[2.9822164078435285, 2.5265403801203097, 2.3195583877490566, 2.1966359420232067, 2.1046038226447776, 2.0519142744602274, 1.9756743898220581, 1.9241250107041636, 1.8750142609517277, 1.9048776187494216, 1.8668072272619747, 1.8119590583183591, 1.8591538476948668, 1.8001581144533576, 1.7895636354799638]\n",
      "68.75961538461539\n"
     ]
    }
   ],
   "source": [
    "net = Network2([784,100, 27], cost=CrossEntropyCost)\n",
    "evaluation_cost, evaluation_accuracy,training_cost, training_accuracy = net.SGD(list(training_data),15,1000,0.3,evaluation_data=list(test_data), monitor_evaluation_accuracy=True, monitor_evaluation_cost=True, monitor_training_accuracy=True,monitor_training_cost=True)\n",
    "print(evaluation_cost)\n",
    "percentage_accuracy = (net.accuracy(validation_data)/20800)*100\n",
    "print(percentage_accuracy)\n"
   ]
  },
  {
   "cell_type": "markdown",
   "metadata": {},
   "source": [
    "Here we can see that Accuracy is 68.75 % with smaller Learning rate."
   ]
  },
  {
   "cell_type": "markdown",
   "metadata": {},
   "source": [
    "# Graph of Validation Set (Accuracy vs Cost)"
   ]
  },
  {
   "cell_type": "code",
   "execution_count": 55,
   "metadata": {},
   "outputs": [
    {
     "data": {
      "image/png": "[encoded data removed]",
      "text/plain": [
       "<Figure size 432x288 with 1 Axes>"
      ]
     },
     "metadata": {
      "needs_background": "light"
     },
     "output_type": "display_data"
    }
   ],
   "source": [
    "t = evaluation_accuracy\n",
    "s = evaluation_cost\n",
    "fig, ax = plt.subplots()\n",
    "ax.plot(s, t)\n",
    "ax.set(xlabel='Cost', ylabel='Accuracy', title='Cost vs Accuracy')\n",
    "ax.grid()\n",
    "plt.show()\n"
   ]
  },
  {
   "cell_type": "markdown",
   "metadata": {},
   "source": [
    "# Graph of Training Set (Accuracy vs Cost)"
   ]
  },
  {
   "cell_type": "code",
   "execution_count": 56,
   "metadata": {},
   "outputs": [
    {
     "data": {
      "image/png": "[encoded data removed]",
      "text/plain": [
       "<Figure size 432x288 with 1 Axes>"
      ]
     },
     "metadata": {
      "needs_background": "light"
     },
     "output_type": "display_data"
    }
   ],
   "source": [
    "t = training_accuracy\n",
    "s = training_cost\n",
    "fig, ax = plt.subplots()\n",
    "ax.plot(s, t)\n",
    "ax.set(xlabel='Cost', ylabel='Accuracy', title='Cost vs Accuracy')\n",
    "ax.grid()\n",
    "plt.show()\n",
    "\n",
    "     "
   ]
  },
  {
   "cell_type": "markdown",
   "metadata": {},
   "source": [
    "# Overfitting with Greater Learning Rate"
   ]
  },
  {
   "cell_type": "code",
   "execution_count": 80,
   "metadata": {},
   "outputs": [
    {
     "name": "stdout",
     "output_type": "stream",
     "text": [
      "Epoch 0 training complete\n",
      "Cost on training data: 3.6815120160961605\n",
      "Accuracy on training data: 19120 / 104000\n",
      "Cost on evaluation data: 3.6812314985265284\n",
      "Accuracy on evaluation data: 3828 / 20800\n",
      "\n",
      "Epoch 1 training complete\n",
      "Cost on training data: 3.447866548169658\n",
      "Accuracy on training data: 25930 / 104000\n",
      "Cost on evaluation data: 3.4502608829586205\n",
      "Accuracy on evaluation data: 5182 / 20800\n",
      "\n",
      "Epoch 2 training complete\n",
      "Cost on training data: 3.294268869892869\n",
      "Accuracy on training data: 30880 / 104000\n",
      "Cost on evaluation data: 3.2878504940340916\n",
      "Accuracy on evaluation data: 6161 / 20800\n",
      "\n",
      "Epoch 3 training complete\n",
      "Cost on training data: 3.1833883694218645\n",
      "Accuracy on training data: 32464 / 104000\n",
      "Cost on evaluation data: 3.1824533346264294\n",
      "Accuracy on evaluation data: 6502 / 20800\n",
      "\n",
      "Epoch 4 training complete\n",
      "Cost on training data: 3.20439534833878\n",
      "Accuracy on training data: 30910 / 104000\n",
      "Cost on evaluation data: 3.2035800775049994\n",
      "Accuracy on evaluation data: 6167 / 20800\n",
      "\n",
      "Epoch 5 training complete\n",
      "Cost on training data: 3.075200147040091\n",
      "Accuracy on training data: 37355 / 104000\n",
      "Cost on evaluation data: 3.069822521515782\n",
      "Accuracy on evaluation data: 7457 / 20800\n",
      "\n",
      "Epoch 6 training complete\n",
      "Cost on training data: 3.0596349175068345\n",
      "Accuracy on training data: 36911 / 104000\n",
      "Cost on evaluation data: 3.0612699667605825\n",
      "Accuracy on evaluation data: 7346 / 20800\n",
      "\n",
      "Epoch 7 training complete\n",
      "Cost on training data: 3.024501111527461\n",
      "Accuracy on training data: 39090 / 104000\n",
      "Cost on evaluation data: 3.0248733043768383\n",
      "Accuracy on evaluation data: 7835 / 20800\n",
      "\n",
      "Epoch 8 training complete\n",
      "Cost on training data: 2.975788944088949\n",
      "Accuracy on training data: 39492 / 104000\n",
      "Cost on evaluation data: 2.9798620741344592\n",
      "Accuracy on evaluation data: 7853 / 20800\n",
      "\n",
      "Epoch 9 training complete\n",
      "Cost on training data: 2.961066717624776\n",
      "Accuracy on training data: 37594 / 104000\n",
      "Cost on evaluation data: 2.96376891828573\n",
      "Accuracy on evaluation data: 7470 / 20800\n",
      "\n",
      "Epoch 10 training complete\n",
      "Cost on training data: 2.9137292111319444\n",
      "Accuracy on training data: 40874 / 104000\n",
      "Cost on evaluation data: 2.9263820726336167\n",
      "Accuracy on evaluation data: 8080 / 20800\n",
      "\n",
      "Epoch 11 training complete\n",
      "Cost on training data: 2.9057034655641227\n",
      "Accuracy on training data: 40445 / 104000\n",
      "Cost on evaluation data: 2.913298285059567\n",
      "Accuracy on evaluation data: 8052 / 20800\n",
      "\n",
      "Epoch 12 training complete\n",
      "Cost on training data: 2.987500545990643\n",
      "Accuracy on training data: 38536 / 104000\n",
      "Cost on evaluation data: 2.9968294420001333\n",
      "Accuracy on evaluation data: 7613 / 20800\n",
      "\n",
      "Epoch 13 training complete\n",
      "Cost on training data: 2.914347675545762\n",
      "Accuracy on training data: 38942 / 104000\n",
      "Cost on evaluation data: 2.916900829764997\n",
      "Accuracy on evaluation data: 7789 / 20800\n",
      "\n",
      "Epoch 14 training complete\n",
      "Cost on training data: 2.946695433681659\n",
      "Accuracy on training data: 39010 / 104000\n",
      "Cost on evaluation data: 2.953536295841527\n",
      "Accuracy on evaluation data: 7830 / 20800\n",
      "\n",
      "37.39903846153847\n"
     ]
    }
   ],
   "source": [
    "\n",
    "training_data, validation_data, test_data = load_data_wrapper()\n",
    "net = Network2([784,100, 27], cost=CrossEntropyCost)\n",
    "evaluation_cost, evaluation_accuracy,training_cost, training_accuracy = net.SGD(list(training_data),15,1000,1.0,evaluation_data=list(test_data), monitor_evaluation_accuracy=True, monitor_evaluation_cost=True, monitor_training_accuracy=True,monitor_training_cost=True)\n",
    "percentage_accuracy = (net.accuracy(validation_data)/20800)*100\n",
    "print(percentage_accuracy)\n"
   ]
  },
  {
   "cell_type": "markdown",
   "metadata": {},
   "source": [
    "Here we can see that Accuracy is 37.39% that means when the learning rate is increased the accuracy goes down. So, when Learning rate was smaller we got a good accuracy i.e 68.75%. "
   ]
  },
  {
   "cell_type": "markdown",
   "metadata": {},
   "source": [
    "# Graph of Training Set (Accuracy vs Cost)"
   ]
  },
  {
   "cell_type": "code",
   "execution_count": 81,
   "metadata": {},
   "outputs": [
    {
     "data": {
      "image/png": "[encoded data removed]",
      "text/plain": [
       "<Figure size 432x288 with 1 Axes>"
      ]
     },
     "metadata": {
      "needs_background": "light"
     },
     "output_type": "display_data"
    }
   ],
   "source": [
    "t = training_accuracy\n",
    "s = training_cost\n",
    "fig, ax = plt.subplots()\n",
    "ax.plot(s, t)\n",
    "ax.set(xlabel='Cost', ylabel='Accuracy', title='Cost vs Accuracy')\n",
    "ax.grid()\n",
    "plt.show()"
   ]
  },
  {
   "cell_type": "markdown",
   "metadata": {},
   "source": [
    "# Graph of Validation Set (Accuracy vs Cost)"
   ]
  },
  {
   "cell_type": "code",
   "execution_count": 82,
   "metadata": {},
   "outputs": [
    {
     "data": {
      "image/png": "[encoded data removed]",
      "text/plain": [
       "<Figure size 432x288 with 1 Axes>"
      ]
     },
     "metadata": {
      "needs_background": "light"
     },
     "output_type": "display_data"
    }
   ],
   "source": [
    "t = evaluation_accuracy\n",
    "s = evaluation_cost\n",
    "fig, ax = plt.subplots()\n",
    "ax.plot(s, t)\n",
    "ax.set(xlabel='Cost', ylabel='Accuracy', title='Cost vs Accuracy')\n",
    "ax.grid()\n",
    "plt.show()"
   ]
  },
  {
   "cell_type": "markdown",
   "metadata": {},
   "source": [
    "# Regularization with smaller Lamda and Learning rate "
   ]
  },
  {
   "cell_type": "code",
   "execution_count": 83,
   "metadata": {},
   "outputs": [
    {
     "name": "stdout",
     "output_type": "stream",
     "text": [
      "Epoch 0 training complete\n",
      "Cost on training data: 3.1696366570009946\n",
      "Accuracy on training data: 48164 / 104000\n",
      "Cost on evaluation data: 3.1724425944786634\n",
      "Accuracy on evaluation data: 9654 / 20800\n",
      "\n",
      "Epoch 1 training complete\n",
      "Cost on training data: 2.673390376969116\n",
      "Accuracy on training data: 56145 / 104000\n",
      "Cost on evaluation data: 2.6792427994326258\n",
      "Accuracy on evaluation data: 11220 / 20800\n",
      "\n",
      "Epoch 2 training complete\n",
      "Cost on training data: 2.4119620153214503\n",
      "Accuracy on training data: 59482 / 104000\n",
      "Cost on evaluation data: 2.4223557998129075\n",
      "Accuracy on evaluation data: 11819 / 20800\n",
      "\n",
      "Epoch 3 training complete\n",
      "Cost on training data: 2.307390313528056\n",
      "Accuracy on training data: 61778 / 104000\n",
      "Cost on evaluation data: 2.315916106282657\n",
      "Accuracy on evaluation data: 12289 / 20800\n",
      "\n",
      "Epoch 4 training complete\n",
      "Cost on training data: 2.204877616964043\n",
      "Accuracy on training data: 63238 / 104000\n",
      "Cost on evaluation data: 2.215078527922651\n",
      "Accuracy on evaluation data: 12637 / 20800\n",
      "\n",
      "Epoch 5 training complete\n",
      "Cost on training data: 2.169809322622868\n",
      "Accuracy on training data: 63807 / 104000\n",
      "Cost on evaluation data: 2.179738811961694\n",
      "Accuracy on evaluation data: 12740 / 20800\n",
      "\n",
      "Epoch 6 training complete\n",
      "Cost on training data: 2.1091081006072163\n",
      "Accuracy on training data: 64925 / 104000\n",
      "Cost on evaluation data: 2.1268642317539186\n",
      "Accuracy on evaluation data: 12940 / 20800\n",
      "\n",
      "Epoch 7 training complete\n",
      "Cost on training data: 2.0515362954652843\n",
      "Accuracy on training data: 65590 / 104000\n",
      "Cost on evaluation data: 2.0712779450259635\n",
      "Accuracy on evaluation data: 12995 / 20800\n",
      "\n",
      "Epoch 8 training complete\n",
      "Cost on training data: 2.0190727429840525\n",
      "Accuracy on training data: 66793 / 104000\n",
      "Cost on evaluation data: 2.0364798902151917\n",
      "Accuracy on evaluation data: 13340 / 20800\n",
      "\n",
      "Epoch 9 training complete\n",
      "Cost on training data: 1.9973778139889347\n",
      "Accuracy on training data: 67086 / 104000\n",
      "Cost on evaluation data: 2.014486436709062\n",
      "Accuracy on evaluation data: 13337 / 20800\n",
      "\n",
      "Epoch 10 training complete\n",
      "Cost on training data: 1.9927934752351175\n",
      "Accuracy on training data: 67188 / 104000\n",
      "Cost on evaluation data: 2.0075383761627146\n",
      "Accuracy on evaluation data: 13464 / 20800\n",
      "\n",
      "Epoch 11 training complete\n",
      "Cost on training data: 1.9744420449325781\n",
      "Accuracy on training data: 67233 / 104000\n",
      "Cost on evaluation data: 1.9887188662049335\n",
      "Accuracy on evaluation data: 13473 / 20800\n",
      "\n",
      "Epoch 12 training complete\n",
      "Cost on training data: 1.923330698220882\n",
      "Accuracy on training data: 68581 / 104000\n",
      "Cost on evaluation data: 1.9405802072914535\n",
      "Accuracy on evaluation data: 13754 / 20800\n",
      "\n",
      "Epoch 13 training complete\n",
      "Cost on training data: 1.9537487017320938\n",
      "Accuracy on training data: 67473 / 104000\n",
      "Cost on evaluation data: 1.9753777023881929\n",
      "Accuracy on evaluation data: 13424 / 20800\n",
      "\n",
      "Epoch 14 training complete\n",
      "Cost on training data: 1.9201817375553119\n",
      "Accuracy on training data: 68846 / 104000\n",
      "Cost on evaluation data: 1.9547490659813416\n",
      "Accuracy on evaluation data: 13678 / 20800\n",
      "\n",
      "65.54326923076923\n"
     ]
    }
   ],
   "source": [
    "\n",
    "training_data, validation_data, test_data = load_data_wrapper()\n",
    "net = Network2([784,100, 27], cost=CrossEntropyCost)\n",
    "evaluation_cost, evaluation_accuracy,training_cost, training_accuracy = net.SGD(list(training_data),15,1000,0.3, lmbda =0.5, evaluation_data=list(test_data), monitor_evaluation_accuracy=True, monitor_evaluation_cost=True, monitor_training_accuracy=True,monitor_training_cost=True)\n",
    "#print(evaluation_cost)\n",
    "percentage_accuracy = (net.accuracy(validation_data)/20800)*100\n",
    "print(percentage_accuracy)\n"
   ]
  },
  {
   "cell_type": "markdown",
   "metadata": {},
   "source": [
    "Here we can see that the Accuracy is 65.54% with smaller value of lamda i.e regularization parameter and learning rate."
   ]
  },
  {
   "cell_type": "markdown",
   "metadata": {},
   "source": [
    "#  Graph of Training Set (Accuracy vs Cost)"
   ]
  },
  {
   "cell_type": "code",
   "execution_count": 84,
   "metadata": {},
   "outputs": [
    {
     "data": {
      "image/png": "[encoded data removed]",
      "text/plain": [
       "<Figure size 432x288 with 1 Axes>"
      ]
     },
     "metadata": {
      "needs_background": "light"
     },
     "output_type": "display_data"
    }
   ],
   "source": [
    "\n",
    "t = training_accuracy\n",
    "s = training_cost\n",
    "fig, ax = plt.subplots()\n",
    "ax.plot(s, t)\n",
    "ax.set(xlabel='Cost', ylabel='Accuracy', title='Cost vs Accuracy')\n",
    "ax.grid()\n",
    "plt.show()\n"
   ]
  },
  {
   "cell_type": "markdown",
   "metadata": {},
   "source": [
    "# Graph of Validation Set (Accuracy vs Cost)"
   ]
  },
  {
   "cell_type": "code",
   "execution_count": 85,
   "metadata": {},
   "outputs": [
    {
     "data": {
      "image/png": "[encoded data removed]",
      "text/plain": [
       "<Figure size 432x288 with 1 Axes>"
      ]
     },
     "metadata": {
      "needs_background": "light"
     },
     "output_type": "display_data"
    }
   ],
   "source": [
    "t = evaluation_accuracy\n",
    "s = evaluation_cost\n",
    "fig, ax = plt.subplots()\n",
    "ax.plot(s, t)\n",
    "ax.set(xlabel='Cost', ylabel='Accuracy', title='Cost vs Accuracy')\n",
    "ax.grid()\n",
    "plt.show()"
   ]
  },
  {
   "cell_type": "markdown",
   "metadata": {},
   "source": [
    "# Regularization with greater Lamda and Learning Rate"
   ]
  },
  {
   "cell_type": "code",
   "execution_count": 86,
   "metadata": {},
   "outputs": [
    {
     "name": "stdout",
     "output_type": "stream",
     "text": [
      "Epoch 0 training complete\n",
      "Cost on training data: 3.707175769248347\n",
      "Accuracy on training data: 23020 / 104000\n",
      "Cost on evaluation data: 3.7726309524760104\n",
      "Accuracy on evaluation data: 4565 / 20800\n",
      "\n",
      "Epoch 1 training complete\n",
      "Cost on training data: 3.391584765527334\n",
      "Accuracy on training data: 30831 / 104000\n",
      "Cost on evaluation data: 3.468388414804001\n",
      "Accuracy on evaluation data: 6162 / 20800\n",
      "\n",
      "Epoch 2 training complete\n",
      "Cost on training data: 3.2593887933339944\n",
      "Accuracy on training data: 32145 / 104000\n",
      "Cost on evaluation data: 3.353071325706787\n",
      "Accuracy on evaluation data: 6601 / 20800\n",
      "\n",
      "Epoch 3 training complete\n",
      "Cost on training data: 3.1861748282134017\n",
      "Accuracy on training data: 34314 / 104000\n",
      "Cost on evaluation data: 3.2858032331895877\n",
      "Accuracy on evaluation data: 7019 / 20800\n",
      "\n",
      "Epoch 4 training complete\n",
      "Cost on training data: 2.9938931591733104\n",
      "Accuracy on training data: 39176 / 104000\n",
      "Cost on evaluation data: 3.128750823188869\n",
      "Accuracy on evaluation data: 7858 / 20800\n",
      "\n",
      "Epoch 5 training complete\n",
      "Cost on training data: 3.001860722048097\n",
      "Accuracy on training data: 40004 / 104000\n",
      "Cost on evaluation data: 3.14329406404943\n",
      "Accuracy on evaluation data: 8022 / 20800\n",
      "\n",
      "Epoch 6 training complete\n",
      "Cost on training data: 2.9888164097317316\n",
      "Accuracy on training data: 39086 / 104000\n",
      "Cost on evaluation data: 3.1501760042914686\n",
      "Accuracy on evaluation data: 7784 / 20800\n",
      "\n",
      "Epoch 7 training complete\n",
      "Cost on training data: 2.9404685592166557\n",
      "Accuracy on training data: 41298 / 104000\n",
      "Cost on evaluation data: 3.1014149722423827\n",
      "Accuracy on evaluation data: 8195 / 20800\n",
      "\n",
      "Epoch 8 training complete\n",
      "Cost on training data: 2.902295704253964\n",
      "Accuracy on training data: 41438 / 104000\n",
      "Cost on evaluation data: 3.085737895236416\n",
      "Accuracy on evaluation data: 8145 / 20800\n",
      "\n",
      "Epoch 9 training complete\n",
      "Cost on training data: 3.051076511141631\n",
      "Accuracy on training data: 39043 / 104000\n",
      "Cost on evaluation data: 3.231729544035627\n",
      "Accuracy on evaluation data: 7790 / 20800\n",
      "\n",
      "Epoch 10 training complete\n",
      "Cost on training data: 2.961427615752812\n",
      "Accuracy on training data: 41422 / 104000\n",
      "Cost on evaluation data: 3.1576643468749572\n",
      "Accuracy on evaluation data: 8195 / 20800\n",
      "\n",
      "Epoch 11 training complete\n",
      "Cost on training data: 3.142851240068852\n",
      "Accuracy on training data: 33033 / 104000\n",
      "Cost on evaluation data: 3.3424195891658424\n",
      "Accuracy on evaluation data: 6563 / 20800\n",
      "\n",
      "Epoch 12 training complete\n",
      "Cost on training data: 2.8561164249575057\n",
      "Accuracy on training data: 43962 / 104000\n",
      "Cost on evaluation data: 3.069009914778327\n",
      "Accuracy on evaluation data: 8801 / 20800\n",
      "\n",
      "Epoch 13 training complete\n",
      "Cost on training data: 2.9120985988784684\n",
      "Accuracy on training data: 43150 / 104000\n",
      "Cost on evaluation data: 3.1448740577365806\n",
      "Accuracy on evaluation data: 8571 / 20800\n",
      "\n",
      "Epoch 14 training complete\n",
      "Cost on training data: 2.9339481350212653\n",
      "Accuracy on training data: 41991 / 104000\n",
      "Cost on evaluation data: 3.1665978765269904\n",
      "Accuracy on evaluation data: 8318 / 20800\n",
      "\n",
      "[3.7726309524760104, 3.468388414804001, 3.353071325706787, 3.2858032331895877, 3.128750823188869, 3.14329406404943, 3.1501760042914686, 3.1014149722423827, 3.085737895236416, 3.231729544035627, 3.1576643468749572, 3.3424195891658424, 3.069009914778327, 3.1448740577365806, 3.1665978765269904]\n",
      "40.37019230769231\n"
     ]
    }
   ],
   "source": [
    "\n",
    "training_data, validation_data, test_data = load_data_wrapper()\n",
    "net = Network2([784,100, 27], cost=CrossEntropyCost)\n",
    "evaluation_cost, evaluation_accuracy,training_cost, training_accuracy = net.SGD(list(training_data),15,1000,1.0, lmbda =5.0, evaluation_data=list(test_data), monitor_evaluation_accuracy=True, monitor_evaluation_cost=True, monitor_training_accuracy=True,monitor_training_cost=True)\n",
    "print(evaluation_cost)\n",
    "percentage_accuracy = (net.accuracy(validation_data)/20800)*100\n",
    "print(percentage_accuracy)"
   ]
  },
  {
   "cell_type": "markdown",
   "metadata": {},
   "source": [
    "Here we can see that Accuracy is decreasing i.e 40.30% as we are increasing the lamda and learning rate. "
   ]
  },
  {
   "cell_type": "markdown",
   "metadata": {},
   "source": [
    "# Graph of Training set (Accuracy vs Cost)  "
   ]
  },
  {
   "cell_type": "code",
   "execution_count": 88,
   "metadata": {},
   "outputs": [
    {
     "data": {
      "image/png": "[encoded data removed]",
      "text/plain": [
       "<Figure size 432x288 with 1 Axes>"
      ]
     },
     "metadata": {
      "needs_background": "light"
     },
     "output_type": "display_data"
    }
   ],
   "source": [
    "\n",
    "t = training_accuracy\n",
    "s = training_cost\n",
    "fig, ax = plt.subplots()\n",
    "ax.plot(s, t)\n",
    "ax.set(xlabel='Cost', ylabel='Accuracy', title='Cost vs Accuracy')\n",
    "ax.grid()\n",
    "plt.show()"
   ]
  },
  {
   "cell_type": "markdown",
   "metadata": {},
   "source": [
    "# Graph of Validation Set (Accuracy vs Cost)"
   ]
  },
  {
   "cell_type": "code",
   "execution_count": 89,
   "metadata": {},
   "outputs": [
    {
     "data": {
      "image/png": "[encoded data removed]",
      "text/plain": [
       "<Figure size 432x288 with 1 Axes>"
      ]
     },
     "metadata": {
      "needs_background": "light"
     },
     "output_type": "display_data"
    }
   ],
   "source": [
    "t = evaluation_accuracy\n",
    "s = evaluation_cost\n",
    "fig, ax = plt.subplots()\n",
    "ax.plot(s, t)\n",
    "ax.set(xlabel='Cost', ylabel='Accuracy', title='Cost vs Accuracy')\n",
    "ax.grid()\n",
    "plt.show()"
   ]
  },
  {
   "cell_type": "markdown",
   "metadata": {},
   "source": [
    "# We can see from network.py and network2.py i.e Improving the network that the Accuracy increases as we tune the hyperparameters like Learning rate and Lamda. So we got the accuracy of network.py as 14.92% and network2.py as 68.75% which says that after tuning the hyperparamters accuracy is increased."
   ]
  },
  {
   "cell_type": "code",
   "execution_count": null,
   "metadata": {},
   "outputs": [],
   "source": []
  }
 ],
 "metadata": {
  "kernelspec": {
   "display_name": "Python 3",
   "language": "python",
   "name": "python3"
  },
  "language_info": {
   "codemirror_mode": {
    "name": "ipython",
    "version": 3
   },
   "file_extension": ".py",
   "mimetype": "text/x-python",
   "name": "python",
   "nbconvert_exporter": "python",
   "pygments_lexer": "ipython3",
   "version": "3.6.8"
  }
 },
 "nbformat": 4,
 "nbformat_minor": 2
}
